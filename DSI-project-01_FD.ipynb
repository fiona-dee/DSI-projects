{
 "cells": [
  {
   "cell_type": "markdown",
   "metadata": {},
   "source": [
    "# Project 1: Python Coding Exercises\n",
    "\n",
    "\n",
    "Fiona Dee - May 2021\n",
    "\n",
    "---"
   ]
  },
  {
   "cell_type": "markdown",
   "metadata": {},
   "source": [
    "### Challenge 1: Largest Palindrome\n",
    "A palindromic number reads the same both ways. For example, 1234321 is a palindrome. The largest palindrome made from the product of two two-digit numbers is 9009 = 91 × 99. Find the largest palindrome made from the product of two three-digit numbers. Afterward, write a brief explanation walking through your code's logic in markdown."
   ]
  },
  {
   "cell_type": "code",
   "execution_count": 1,
   "metadata": {},
   "outputs": [
    {
     "name": "stdout",
     "output_type": "stream",
     "text": [
      "906609 is the biggest palindrome, it is the product of: 993 and 913\n"
     ]
    }
   ],
   "source": [
    "## code will output: largest palindrome and the two numbers which multiply to it \n",
    "## largest palindrome from the product of two three-digit numbers\n",
    "\n",
    "# initialise variables\n",
    "max_pal = 0     # max palindrome\n",
    "var1 = 0\n",
    "var2 = 0\n",
    "product = 0\n",
    "\n",
    "# this loops from highest 3-digit number down to lowest 3-digit number\n",
    "for i in range(999, 100, -1):\n",
    "    \n",
    "    # this loops within the decreasing outer loop\n",
    "    # i|999 x j|998 = i|998 x j|999\n",
    "    # no need for inner loop to ever be higher than outer loop\n",
    "    for j in range(i, 100, -1):    \n",
    "        product = i * j\n",
    "        \n",
    "        # IF product is greater that previously found max_palidrome\n",
    "        # AND is a palindrome >> update max variables\n",
    "        if (product > max_pal) & ( product == int(str(product)[::-1]) ): \n",
    "            max_pal = product\n",
    "            var1 = i\n",
    "            var2 = j\n",
    "\n",
    "print(max_pal, 'is the biggest palindrome, it is the product of:', var1, 'and', var2)"
   ]
  },
  {
   "cell_type": "markdown",
   "metadata": {},
   "source": [
    "**Code explanation**\n",
    "- Test if each product of two 3-digit numbers is a palindrome.\n",
    "    - Sequence of products is calculated by two nested for loops, counting from highest 3-digit number down to lowest. This is so the highest palindrome will be found earlier and less code will need to be executed.\n",
    "    - Palindrome is tested by converting the product to a string, reversing the string, converting back to an integer and evaluating if it equals the product. \n",
    "- If the product is a palindrome and higher than the last palindrome found, store this product as the new highest palindrome. I also chose to store the two 3-digit numbers which produce the highest palindrome.<br><br>\n",
    " *Note:* the highest range of the inner loop of numbers decreases with each iteration of the outer loop, because there is no need to test products which been tested. <br>\n",
    "E.g. (i=990) x (j=999) = (i=999) x (j=990) was already tested 9 iterations of the outer loop previously. So can skip to testing (i=990) x (j=990) as all higher values of j have already been tested against i=990\n",
    "\n",
    "---"
   ]
  },
  {
   "cell_type": "markdown",
   "metadata": {},
   "source": [
    "### Challenge 2: Summation of Primes\n",
    "The sum of the primes below 10 is 2 + 3 + 5 + 7 = 17. Find the sum of all the primes below 2,000. Afterward, write a brief explanation walking through your code's logic in markdown."
   ]
  },
  {
   "cell_type": "code",
   "execution_count": 2,
   "metadata": {},
   "outputs": [
    {
     "name": "stdout",
     "output_type": "stream",
     "text": [
      "Sum of all primes below 2000 = 277050\n"
     ]
    }
   ],
   "source": [
    "## code will output: sum of all primes below 2,000\n",
    "## prime is a number that is only divisible by 1 and itself\n",
    "\n",
    "# initialise variable\n",
    "sum_of_primes = 2  # initialise with only prime that is even\n",
    "\n",
    "# range of numbers to check: only odd numbers >2 are potential primes\n",
    "for number in range(3,2000,2):  \n",
    "    # initialise variables within loop\n",
    "    is_prime = True                    # assume True until divisor check\n",
    "    num_sqrt = int(number**0.5) + 1    # round up\n",
    "    \n",
    "    # check divisors from 2 to sqrt of test number, if no remainder then it's not a prime\n",
    "    for i in range(2,num_sqrt):\n",
    "        if (number%i == 0):\n",
    "            is_prime = False\n",
    "            break\n",
    "\n",
    "    # if test number is a prime, add it to the list\n",
    "    if is_prime:\n",
    "        sum_of_primes += number\n",
    "\n",
    "print('Sum of all primes below 2000 =',sum_of_primes)"
   ]
  },
  {
   "cell_type": "markdown",
   "metadata": {},
   "source": [
    "**Code explanation**\n",
    "- Test all odd numbers over 2, up to 2000. (2 is the only non-odd prime number.)\n",
    "- Test if number is a prime by dividing from 2 up to it's square root. If there is a division without a remainder, then the number is not a prime and go check the next number. \n",
    "- Add each number found to be a prime, to current total of primes found. <br><br>\n",
    "Note: when testing the code, I outputed the primes to a list (rather than sum primes as the code runs) to confirm that primes are being found.\n",
    "\n",
    "---"
   ]
  },
  {
   "cell_type": "markdown",
   "metadata": {},
   "source": [
    "### Challenge 3: Multiples of 3 and 5\n",
    "If we list all of the natural numbers below 10 that are multiples of 3 or 5, we get 3, 5, 6, and 9. The sum of these multiples is 23. Find the sum of all the multiples of 3 and 5 below 1,000. Afterward, write a brief explanation walking through your code's logic in markdown."
   ]
  },
  {
   "cell_type": "code",
   "execution_count": 3,
   "metadata": {},
   "outputs": [
    {
     "name": "stdout",
     "output_type": "stream",
     "text": [
      "Sum of all multiples of 3 or 5 below 1,000 = 233168\n"
     ]
    }
   ],
   "source": [
    "## code will output: sum of all multiples of 3 or 5 below 1,000\n",
    "\n",
    "# create a list of numbers which are multiples of 3 or 5\n",
    "multi_list = [i for i in range(1,1000) if (i%3 == 0) or (i%5 == 0)]\n",
    "\n",
    "# print the sum of the list of multiples\n",
    "print('Sum of all multiples of 3 or 5 below 1,000 =', sum(multi_list))"
   ]
  },
  {
   "cell_type": "markdown",
   "metadata": {},
   "source": [
    "**Code explanation**\n",
    "- Iterate through all numbers from 1 to 1,000.\n",
    "- If the number can be divided by 3 or 5 without a remainder then add the number to the list.\n",
    "- Print the sum of the list of numbers found to be multiples of 3 or 5 <br><br>\n",
    " *Note:*  I chose to code this as a list comprehension because the logic is easy to follow. The earlier challenges have more nested code and I wanted to be able to add comments into the code so they would be easier to follow.\n",
    "\n",
    "---"
   ]
  },
  {
   "cell_type": "markdown",
   "metadata": {},
   "source": [
    "### Challenge 4: String Compressor\n",
    "Implement a method to perform basic string compression using the counts of repeated characters. (This is called run-length encoding.) For example, the string \"aabcccccaaa\" would become a2b1c5a3. If the “compressed” string would not become smaller than the original string, your method should return the original string. You can assume the string has only uppercase and lowercase letters (a–z). Specify whether your solution is case sensitive or case insensitive and what you would need to change to make it the other. Afterward, write a brief explanation walking through your code's logic in markdown."
   ]
  },
  {
   "cell_type": "code",
   "execution_count": 4,
   "metadata": {},
   "outputs": [],
   "source": [
    "## code will output: string compression using the counts of repeated characters. \n",
    "## Unless the 'compressed' string would be longer than the original, in which case the original string is returned.\n",
    "## Default is case insensitive.\n",
    "\n",
    "# case insensitive\n",
    "def str_comp(test_string, ignore_case=True):\n",
    "    orig_string = test_string    # to return a multi-case string\n",
    "\n",
    "    # check which case option chosen: True=ignore case, False=case sensitive\n",
    "    if ignore_case:\n",
    "        test_string = test_string.lower()\n",
    "\n",
    "    # initialise variables\n",
    "    last_char = test_string[0] # initialise at first char\n",
    "    char_count = 0  # initialise at 0, first loop will increment\n",
    "    result =''\n",
    "   \n",
    "    # test string\n",
    "    for char in test_string:\n",
    "        if char == last_char:\n",
    "            char_count +=1\n",
    "        else:\n",
    "            result += last_char + str(char_count)\n",
    "        # initialise for different char\n",
    "            last_char = char\n",
    "            char_count = 1\n",
    "    \n",
    "    # add for last character of string\n",
    "    if char == last_char:\n",
    "        result += last_char + str(char_count)\n",
    "    else:\n",
    "        result += char + str(1)\n",
    "\n",
    "    # check what to return\n",
    "    return orig_string if (len(result) > len(test_string)) else result"
   ]
  },
  {
   "cell_type": "markdown",
   "metadata": {},
   "source": [
    "**Code explanation**<br>\n",
    "function: `str_comp(test_string, ignore_case=True)`\n",
    "- Default for function is case insensitive, returning output in lowercase and counting all consecutive instances of each letter.\n",
    "    - To attempt string compression as case sensitive, ignore_case=False.\n",
    "- Handling the first and last characters are important.\n",
    "    - Initialise the last character variable at the first character of the string. \n",
    "    - Initialise the character count at zero, because when the first character-comparison check is done it will correctly count 1 for the first character.\n",
    "- Loop through all characters in the string, comparing current character to previous character. \n",
    "    - If they are the same increment the count.\n",
    "    - Otherwise add the previous character & it's count to the end of the result string. Then reset the last character variable & count for this character.\n",
    "- The last character doesn't have a future character to compare against, so it needs to be added to the result string after the Loop.\n",
    "- Compare original string to result string & return the one that is shorter.<br><br>\n",
    "\n",
    "---"
   ]
  },
  {
   "cell_type": "markdown",
   "metadata": {},
   "source": [
    "### Challenge 5: File Handling\n",
    "\n",
    "##### Part - 1\n",
    "Read the file named 'Diabetes.csv' available in the project folder.\n"
   ]
  },
  {
   "cell_type": "code",
   "execution_count": 5,
   "metadata": {},
   "outputs": [],
   "source": [
    "import pandas as pd"
   ]
  },
  {
   "cell_type": "code",
   "execution_count": 6,
   "metadata": {},
   "outputs": [],
   "source": [
    "# When initially exploring the file, I found the column headers at the 4th row.\n",
    "# There were also a number of columns which had data, but weren't part of the dataset.\n",
    "\n",
    "useful_col = ['diabetes', 'times_pregnant', 'glucose_conc', \n",
    "              'diastolic_BP', 'triceps_thk', '2_hr_insulin', \n",
    "              'bmi', 'pedigree', 'age']"
   ]
  },
  {
   "cell_type": "code",
   "execution_count": 7,
   "metadata": {},
   "outputs": [
    {
     "name": "stdout",
     "output_type": "stream",
     "text": [
      "<class 'pandas.core.frame.DataFrame'>\n",
      "RangeIndex: 767 entries, 0 to 766\n",
      "Data columns (total 9 columns):\n",
      " #   Column          Non-Null Count  Dtype  \n",
      "---  ------          --------------  -----  \n",
      " 0   diabetes        767 non-null    int64  \n",
      " 1   times_pregnant  767 non-null    int64  \n",
      " 2   glucose_conc    767 non-null    int64  \n",
      " 3   diastolic_BP    767 non-null    int64  \n",
      " 4   triceps_thk     767 non-null    int64  \n",
      " 5   2_hr_insulin    767 non-null    int64  \n",
      " 6   bmi             767 non-null    float64\n",
      " 7   pedigree        767 non-null    float64\n",
      " 8   age             767 non-null    int64  \n",
      "dtypes: float64(2), int64(7)\n",
      "memory usage: 54.1 KB\n"
     ]
    }
   ],
   "source": [
    "# read rows from column headers onwards & only columns in the dataset\n",
    "file_df = pd.read_csv('./datasets-p1/Diabetes.csv', header=4, usecols=useful_col)\n",
    "file_df.info()"
   ]
  },
  {
   "cell_type": "markdown",
   "metadata": {},
   "source": [
    "##### Part - 2\n",
    "- Check if the value for 'glucose_conc' is less than 100.\n",
    "- Create a new column named 'prediction'.\n",
    "- If the glucose_conc level is less than 100 then your prediction for that row will be 0 otherwise 1.\n"
   ]
  },
  {
   "cell_type": "code",
   "execution_count": 8,
   "metadata": {},
   "outputs": [
    {
     "data": {
      "text/plain": [
       "(5, 9)"
      ]
     },
     "execution_count": 8,
     "metadata": {},
     "output_type": "execute_result"
    }
   ],
   "source": [
    "# check how many rows have invalid values for glucose_conc\n",
    "# assumption: glucose_conc = 0 is not a reading\n",
    "invalid_glucose_conc = file_df[file_df['glucose_conc']<1]\n",
    "invalid_glucose_conc.shape"
   ]
  },
  {
   "cell_type": "code",
   "execution_count": 9,
   "metadata": {},
   "outputs": [
    {
     "data": {
      "text/plain": [
       "(762, 9)"
      ]
     },
     "execution_count": 9,
     "metadata": {},
     "output_type": "execute_result"
    }
   ],
   "source": [
    "# remove invalid rows for this dataset\n",
    "# expect 767 - 5 = 762 rows\n",
    "file_df = file_df[file_df['glucose_conc']>0]\n",
    "file_df.shape"
   ]
  },
  {
   "cell_type": "code",
   "execution_count": 10,
   "metadata": {},
   "outputs": [
    {
     "data": {
      "text/plain": [
       "1    570\n",
       "0    192\n",
       "Name: prediction, dtype: int64"
      ]
     },
     "execution_count": 10,
     "metadata": {},
     "output_type": "execute_result"
    }
   ],
   "source": [
    "# add column 'prediction': if glucose_conc < 100, then prediction = 0, otherwise 1\n",
    "file_df['prediction'] = [0 if i < 100 else 1 for i in file_df.glucose_conc]\n",
    "file_df.prediction.value_counts()"
   ]
  },
  {
   "cell_type": "code",
   "execution_count": 11,
   "metadata": {},
   "outputs": [
    {
     "name": "stdout",
     "output_type": "stream",
     "text": [
      "<class 'pandas.core.frame.DataFrame'>\n",
      "Int64Index: 762 entries, 0 to 766\n",
      "Data columns (total 10 columns):\n",
      " #   Column          Non-Null Count  Dtype  \n",
      "---  ------          --------------  -----  \n",
      " 0   diabetes        762 non-null    int64  \n",
      " 1   times_pregnant  762 non-null    int64  \n",
      " 2   glucose_conc    762 non-null    int64  \n",
      " 3   diastolic_BP    762 non-null    int64  \n",
      " 4   triceps_thk     762 non-null    int64  \n",
      " 5   2_hr_insulin    762 non-null    int64  \n",
      " 6   bmi             762 non-null    float64\n",
      " 7   pedigree        762 non-null    float64\n",
      " 8   age             762 non-null    int64  \n",
      " 9   prediction      762 non-null    int64  \n",
      "dtypes: float64(2), int64(8)\n",
      "memory usage: 65.5 KB\n"
     ]
    }
   ],
   "source": [
    "# check the column has been added to the dataframe\n",
    "file_df.info()"
   ]
  },
  {
   "cell_type": "markdown",
   "metadata": {},
   "source": [
    "##### Part - 3\n",
    "Write the content of the 'Diabetes.csv' file along with 'prediction' values into a new file named 'Diabetes-with-predictions.csv'"
   ]
  },
  {
   "cell_type": "code",
   "execution_count": 12,
   "metadata": {},
   "outputs": [],
   "source": [
    "# Assumption: don't want the new file to have the rows above the column headers from the original file,\n",
    "# or the columns which weren't part of the dataset.\n",
    "file_df.to_csv('./datasets-p1/Diabetes-with-predictions.csv', index=False)"
   ]
  },
  {
   "cell_type": "markdown",
   "metadata": {},
   "source": [
    "---\n",
    "### *BONUS* Challenge: Diabetes\n",
    "- From the above file, find the min and max age.\n",
    "- Create six intervals based on age (e.g. 11 to 20, 21 to 30 etc.) including both min and max age found earlier.\n",
    "- For each age interval compute the average 'glucose_conc'.\n",
    "- Write your computed data into a new file named 'average_glucose_by_age.csv'. This file should have two columns 'age_interval' and 'avg_glucose_conc'"
   ]
  },
  {
   "cell_type": "code",
   "execution_count": 13,
   "metadata": {},
   "outputs": [
    {
     "data": {
      "text/plain": [
       "(762, 10)"
      ]
     },
     "execution_count": 13,
     "metadata": {},
     "output_type": "execute_result"
    }
   ],
   "source": [
    "# read in the 'Diabetes-with-predictions.csv' file\n",
    "# it only contains the dataset, so no need to specify header row or columns\n",
    "challenge_df = pd.read_csv('./datasets-p1/Diabetes-with-predictions.csv')\n",
    "challenge_df.shape"
   ]
  },
  {
   "cell_type": "code",
   "execution_count": 14,
   "metadata": {},
   "outputs": [
    {
     "name": "stdout",
     "output_type": "stream",
     "text": [
      "min age 21\n",
      "max age 81\n"
     ]
    }
   ],
   "source": [
    "# Find the min and max age. Age is an integer.\n",
    "print('min age', challenge_df.age.min())\n",
    "print('max age', challenge_df.age.max())"
   ]
  },
  {
   "cell_type": "code",
   "execution_count": 15,
   "metadata": {},
   "outputs": [
    {
     "data": {
      "text/plain": [
       "CategoricalDtype(categories=[(20, 29], (29, 39], (39, 49], (49, 59], (59, 69], (69, 81]],\n",
       ", ordered=True)"
      ]
     },
     "execution_count": 15,
     "metadata": {},
     "output_type": "execute_result"
    }
   ],
   "source": [
    "## create 6 intervals across the range of ages\n",
    "# Originally I created the age groups by evenly splitting the range (21-81) by 6.\n",
    "# But I decided the output wasn't as user-friendly as simply using decades, \n",
    "# with the last interval as slightly larger to include the max age\n",
    "\n",
    "age_bins = [20, 29, 39, 49, 59, 69, 81]\n",
    "\n",
    "age_groups = pd.cut(challenge_df['age'], bins=age_bins)\n",
    "age_groups.dtype"
   ]
  },
  {
   "cell_type": "code",
   "execution_count": 16,
   "metadata": {},
   "outputs": [
    {
     "data": {
      "text/plain": [
       "age\n",
       "(20, 29]    114.613232\n",
       "(29, 39]    126.073171\n",
       "(39, 49]    125.709402\n",
       "(49, 59]    140.142857\n",
       "(59, 69]    138.827586\n",
       "(69, 81]    132.666667\n",
       "Name: glucose_conc, dtype: float64"
      ]
     },
     "execution_count": 16,
     "metadata": {},
     "output_type": "execute_result"
    }
   ],
   "source": [
    "# for each age interval compute the average 'glucose_conc'\n",
    "ave_gl_by_age = challenge_df.groupby(age_groups)['glucose_conc'].mean()\n",
    "ave_gl_by_age"
   ]
  },
  {
   "cell_type": "code",
   "execution_count": 17,
   "metadata": {},
   "outputs": [
    {
     "data": {
      "text/plain": [
       "20 to 29    114.613232\n",
       "30 to 39    126.073171\n",
       "40 to 49    125.709402\n",
       "50 to 59    140.142857\n",
       "60 to 69    138.827586\n",
       "70 to 81    132.666667\n",
       "Name: glucose_conc, dtype: float64"
      ]
     },
     "execution_count": 17,
     "metadata": {},
     "output_type": "execute_result"
    }
   ],
   "source": [
    "# Rename the intervals to be obvious which interval each age is in. Original age values are integers.\n",
    "ave_gl_by_age.index = ['20 to 29', '30 to 39',  '40 to 49',  '50 to 59',\n",
    "                   '60 to 69', '70 to 81']\n",
    "ave_gl_by_age"
   ]
  },
  {
   "cell_type": "code",
   "execution_count": 18,
   "metadata": {},
   "outputs": [
    {
     "data": {
      "text/html": [
       "<div>\n",
       "<style scoped>\n",
       "    .dataframe tbody tr th:only-of-type {\n",
       "        vertical-align: middle;\n",
       "    }\n",
       "\n",
       "    .dataframe tbody tr th {\n",
       "        vertical-align: top;\n",
       "    }\n",
       "\n",
       "    .dataframe thead th {\n",
       "        text-align: right;\n",
       "    }\n",
       "</style>\n",
       "<table border=\"1\" class=\"dataframe\">\n",
       "  <thead>\n",
       "    <tr style=\"text-align: right;\">\n",
       "      <th></th>\n",
       "      <th>age_interval</th>\n",
       "      <th>avg_glucose_conc</th>\n",
       "    </tr>\n",
       "  </thead>\n",
       "  <tbody>\n",
       "    <tr>\n",
       "      <th>0</th>\n",
       "      <td>20 to 29</td>\n",
       "      <td>114.613232</td>\n",
       "    </tr>\n",
       "    <tr>\n",
       "      <th>1</th>\n",
       "      <td>30 to 39</td>\n",
       "      <td>126.073171</td>\n",
       "    </tr>\n",
       "    <tr>\n",
       "      <th>2</th>\n",
       "      <td>40 to 49</td>\n",
       "      <td>125.709402</td>\n",
       "    </tr>\n",
       "    <tr>\n",
       "      <th>3</th>\n",
       "      <td>50 to 59</td>\n",
       "      <td>140.142857</td>\n",
       "    </tr>\n",
       "    <tr>\n",
       "      <th>4</th>\n",
       "      <td>60 to 69</td>\n",
       "      <td>138.827586</td>\n",
       "    </tr>\n",
       "    <tr>\n",
       "      <th>5</th>\n",
       "      <td>70 to 81</td>\n",
       "      <td>132.666667</td>\n",
       "    </tr>\n",
       "  </tbody>\n",
       "</table>\n",
       "</div>"
      ],
      "text/plain": [
       "  age_interval  avg_glucose_conc\n",
       "0     20 to 29        114.613232\n",
       "1     30 to 39        126.073171\n",
       "2     40 to 49        125.709402\n",
       "3     50 to 59        140.142857\n",
       "4     60 to 69        138.827586\n",
       "5     70 to 81        132.666667"
      ]
     },
     "execution_count": 18,
     "metadata": {},
     "output_type": "execute_result"
    }
   ],
   "source": [
    "# convert to dataframe & rename columns to 'age_interval' and 'avg_glucose_conc'\n",
    "ave_gl_by_age_df = pd.DataFrame({'age_interval':ave_gl_by_age.index, 'avg_glucose_conc':ave_gl_by_age.values})\n",
    "ave_gl_by_age_df"
   ]
  },
  {
   "cell_type": "code",
   "execution_count": 19,
   "metadata": {},
   "outputs": [],
   "source": [
    "# Save ave_gl_by_age_df to new csv file \n",
    "ave_gl_by_age_df.to_csv('./datasets-p1/average_glucose_by_age.csv', index=False)"
   ]
  },
  {
   "cell_type": "code",
   "execution_count": null,
   "metadata": {},
   "outputs": [],
   "source": []
  }
 ],
 "metadata": {
  "kernelspec": {
   "display_name": "Python 3",
   "language": "python",
   "name": "python3"
  },
  "language_info": {
   "codemirror_mode": {
    "name": "ipython",
    "version": 3
   },
   "file_extension": ".py",
   "mimetype": "text/x-python",
   "name": "python",
   "nbconvert_exporter": "python",
   "pygments_lexer": "ipython3",
   "version": "3.8.10"
  },
  "toc": {
   "base_numbering": 1,
   "nav_menu": {},
   "number_sections": true,
   "sideBar": true,
   "skip_h1_title": false,
   "title_cell": "Table of Contents",
   "title_sidebar": "Contents",
   "toc_cell": false,
   "toc_position": {},
   "toc_section_display": true,
   "toc_window_display": false
  },
  "varInspector": {
   "cols": {
    "lenName": 16,
    "lenType": 16,
    "lenVar": 40
   },
   "kernels_config": {
    "python": {
     "delete_cmd_postfix": "",
     "delete_cmd_prefix": "del ",
     "library": "var_list.py",
     "varRefreshCmd": "print(var_dic_list())"
    },
    "r": {
     "delete_cmd_postfix": ") ",
     "delete_cmd_prefix": "rm(",
     "library": "var_list.r",
     "varRefreshCmd": "cat(var_dic_list()) "
    }
   },
   "types_to_exclude": [
    "module",
    "function",
    "builtin_function_or_method",
    "instance",
    "_Feature"
   ],
   "window_display": false
  }
 },
 "nbformat": 4,
 "nbformat_minor": 4
}
